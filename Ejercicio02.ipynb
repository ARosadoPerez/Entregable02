{
 "metadata": {
  "name": "Ejercicio02"
 },
 "nbformat": 3,
 "nbformat_minor": 0,
 "worksheets": [
  {
   "cells": [
    {
     "cell_type": "code",
     "collapsed": false,
     "input": "# Sistemas Distribuidos\n# Seminario 2 con fecha 17/03/2015\n\n# Autores:\n#   Jos\u00e9 Carlos Sol\u00eds Lojo\n#   Alejandro Rosado P\u00e9rez\n\n# Explicaci\u00f3n del Programa:\n# Este programa se encarga de obtener una lista con todas las palabras contenidas en un fichero\n# de texto. Una vez hecho esto, buscar\u00e1 las palabras cuya \u00faltima letra coincida con la primera letra\n# de otra palabra de la lista. Posteriormente, imprimir\u00e1 por pantalla la lista de palabras que mayor n\u00famero\n# de palabras haya encontrado.\n\n# Comprueba si una palabra ha sido a\u00f1adida anteriormente a la lista\ndef estaRepetida(lista, cad):\n    for palabra in lista:\n        if palabra == cad:\n            return True\n    return False\n# **************************************************\n\n#Busca la siguiente palabra que empiece por la ultima letra de la palabra indicada por parametro\ndef buscarSiguiente(lista_completa, lista_actual, palabra):\n    for cadena in lista_completa:\n        if palabra[len(palabra)-1] == cadena[0] and estaRepetida(lista_actual, cadena) == False:\n            return cadena\n    return \"\"\n# **************************************************\n\n# Programa principal, obtiene la lista de palabras y busca la mejor combinacion de palabras\ndef emparejarPalabras(ruta):\n    lista = []\n    with open(ruta) as myfile:\n        for line in myfile: # Por cada l\u00ednea del fichero\n            for palabra in line.split(' '): # Por cada palabra de la l\u00ednea\n                palabra = palabra.replace(\"\\n\",\"\") # Sustituimos los saltos de l\u00ednea\n                lista += [palabra]\n\n    lista_final = [] # Ser\u00e1 la lista que haya obtenido m\u00e1s resultados\n    \n    for palabra in lista:\n        lista_aux = [] # Borramos el contenido de la lista auxiliar\n        lista_aux += [palabra]\n        siguiente = buscarSiguiente(lista, lista_aux, palabra)\n        while siguiente != \"\": # Mientras encontremos una palabra que sea factible\n            lista_aux += [siguiente] # La a\u00f1adimos\n            palabra = siguiente # Actualizamos la palabra\n            siguiente = buscarSiguiente(lista, lista_aux, palabra) # Buscamos la siguiente\n    \n        if len(lista_aux) > len(lista_final): # Si hemos obtenido m\u00e1s palabras en esta iteraci\u00f3n\n            lista_final = list(lista_aux)\n    \n    print lista_final\n# **************************************************\n    \nfichero = raw_input(\"Introduzca el nombre del fichero (ej. 'pokemon.txt'): \")\nprint \"Mayor lista encontrada: \"\nemparejarPalabras(fichero)\n",
     "language": "python",
     "metadata": {},
     "outputs": [
      {
       "name": "stdout",
       "output_type": "stream",
       "stream": "stdout",
       "text": "Introduzca el nombre del fichero (ej. 'pokemon.txt'): pokemon.txt\n"
      },
      {
       "output_type": "stream",
       "stream": "stdout",
       "text": "Mayor lista encontrada: \n['baltoy', 'yamask', 'kangaskhan', 'nosepass', 'sableye', 'emboar', 'registeel', 'landorus', 'scolipede', 'emolga', 'audino']\n"
      }
     ],
     "prompt_number": 1
    },
    {
     "cell_type": "code",
     "collapsed": false,
     "input": "",
     "language": "python",
     "metadata": {},
     "outputs": []
    }
   ],
   "metadata": {}
  }
 ]
}